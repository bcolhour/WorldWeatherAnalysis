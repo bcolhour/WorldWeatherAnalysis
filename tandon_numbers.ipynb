{
 "cells": [
  {
   "cell_type": "code",
   "execution_count": 2,
   "id": "f25bc91e",
   "metadata": {},
   "outputs": [],
   "source": [
    "import random"
   ]
  },
  {
   "cell_type": "code",
   "execution_count": 3,
   "id": "97498d9c",
   "metadata": {},
   "outputs": [
    {
     "data": {
      "text/plain": [
       "-32"
      ]
     },
     "execution_count": 3,
     "metadata": {},
     "output_type": "execute_result"
    }
   ],
   "source": [
    "random.randint(-90,90)"
   ]
  },
  {
   "cell_type": "code",
   "execution_count": 4,
   "id": "a4a3076b",
   "metadata": {},
   "outputs": [
    {
     "data": {
      "text/plain": [
       "0.40883140371828275"
      ]
     },
     "execution_count": 4,
     "metadata": {},
     "output_type": "execute_result"
    }
   ],
   "source": [
    "random.random()"
   ]
  },
  {
   "cell_type": "code",
   "execution_count": 6,
   "id": "1f95ec8a",
   "metadata": {},
   "outputs": [
    {
     "data": {
      "text/plain": [
       "-2.897651645866211"
      ]
     },
     "execution_count": 6,
     "metadata": {},
     "output_type": "execute_result"
    }
   ],
   "source": [
    "randomNumber=random.randint(-90,89)+random.random()\n",
    "randomNumber"
   ]
  },
  {
   "cell_type": "code",
   "execution_count": 10,
   "id": "635655a6",
   "metadata": {},
   "outputs": [
    {
     "data": {
      "text/plain": [
       "[36.425748347604774,\n",
       " -60.08051711317337,\n",
       " -63.877588975405175,\n",
       " -86.11844664640815,\n",
       " 68.44710826840337,\n",
       " -26.320733551860314,\n",
       " 60.1506697202023,\n",
       " -30.69133396532959,\n",
       " 26.59460911197695,\n",
       " 13.069567865706006]"
      ]
     },
     "execution_count": 10,
     "metadata": {},
     "output_type": "execute_result"
    }
   ],
   "source": [
    "x=1\n",
    "latitudes = []\n",
    "while x < 11:\n",
    "    randomLat=random.randint(-90,89)+random.random()\n",
    "    latitudes.append(randomLat)\n",
    "    x+=1\n",
    "latitudes"
   ]
  },
  {
   "cell_type": "code",
   "execution_count": 11,
   "id": "3a56c2d3",
   "metadata": {},
   "outputs": [
    {
     "data": {
      "text/plain": [
       "58"
      ]
     },
     "execution_count": 11,
     "metadata": {},
     "output_type": "execute_result"
    }
   ],
   "source": [
    "random.randrange(-90,90,step=1)"
   ]
  },
  {
   "cell_type": "code",
   "execution_count": 12,
   "id": "03adb1b6",
   "metadata": {},
   "outputs": [
    {
     "data": {
      "text/plain": [
       "-36"
      ]
     },
     "execution_count": 12,
     "metadata": {},
     "output_type": "execute_result"
    }
   ],
   "source": [
    "random.randrange(-90,90,step=3)"
   ]
  },
  {
   "cell_type": "code",
   "execution_count": 13,
   "id": "372ad012",
   "metadata": {},
   "outputs": [
    {
     "data": {
      "text/plain": [
       "-59.45740699663294"
      ]
     },
     "execution_count": 13,
     "metadata": {},
     "output_type": "execute_result"
    }
   ],
   "source": [
    "random.uniform(-90,90)"
   ]
  },
  {
   "cell_type": "code",
   "execution_count": 15,
   "id": "ca17a9b4",
   "metadata": {},
   "outputs": [],
   "source": [
    "import numpy as np"
   ]
  },
  {
   "cell_type": "code",
   "execution_count": 16,
   "id": "91d3d4d9",
   "metadata": {},
   "outputs": [
    {
     "data": {
      "text/plain": [
       "-51.15787211287195"
      ]
     },
     "execution_count": 16,
     "metadata": {},
     "output_type": "execute_result"
    }
   ],
   "source": [
    "np.random.uniform(-90.000, 90.000)"
   ]
  },
  {
   "cell_type": "code",
   "execution_count": 17,
   "id": "142c9697",
   "metadata": {},
   "outputs": [
    {
     "data": {
      "text/plain": [
       "-11.956655611652849"
      ]
     },
     "execution_count": 17,
     "metadata": {},
     "output_type": "execute_result"
    }
   ],
   "source": [
    "# Another option is to write the parameters\n",
    "np.random.uniform(low=-90, high=90)"
   ]
  },
  {
   "cell_type": "code",
   "execution_count": 18,
   "id": "09e6eb41",
   "metadata": {},
   "outputs": [
    {
     "data": {
      "text/plain": [
       "array([ 80.29687101, -18.45956457, -47.52614416, -53.89238013,\n",
       "       -60.37709953,  55.70684607,  22.35544579,  43.6239677 ,\n",
       "        14.4574488 ,  -0.41978516,  58.69596025, -53.83652675,\n",
       "       -15.73817225, -72.5313698 ,   4.60310732, -78.85077856,\n",
       "        88.79148107,  74.32761296,  69.03775327, -54.74134604,\n",
       "       -54.05996285,  61.19995701,  86.01950574,  74.05386616,\n",
       "       -76.17626122,   4.27951082,  36.73753939,  20.00085337,\n",
       "        31.02763514, -84.42206964,  84.52009121, -27.00527499,\n",
       "       -45.42325061, -14.12104231,  10.76337008, -64.1823808 ,\n",
       "        36.08306309,  22.85140676, -65.38209046, -69.58628065,\n",
       "       -23.63340183,  -9.58298971,  40.73815807,  83.20720109,\n",
       "       -14.62983937, -36.45692348,  10.93019974, -50.56541524,\n",
       "        74.86574549,  17.8231872 ])"
      ]
     },
     "execution_count": 18,
     "metadata": {},
     "output_type": "execute_result"
    }
   ],
   "source": [
    "np.random.uniform(-90.000, 90.000, size=50)"
   ]
  },
  {
   "cell_type": "code",
   "execution_count": 20,
   "id": "94719158",
   "metadata": {},
   "outputs": [],
   "source": [
    "# Import timeit\n",
    "import timeit"
   ]
  },
  {
   "cell_type": "code",
   "execution_count": 23,
   "id": "afb2f391",
   "metadata": {},
   "outputs": [
    {
     "name": "stdout",
     "output_type": "stream",
     "text": [
      "18.8 µs ± 1.3 µs per loop (mean ± std. dev. of 7 runs, 10,000 loops each)\n"
     ]
    }
   ],
   "source": [
    "%timeit np.random.uniform(-90.000,90.000,size=1500)"
   ]
  },
  {
   "cell_type": "code",
   "execution_count": 26,
   "id": "e42bc892",
   "metadata": {},
   "outputs": [
    {
     "name": "stdout",
     "output_type": "stream",
     "text": [
      "2.05 ms ± 374 µs per loop (mean ± std. dev. of 7 runs, 100 loops each)\n"
     ]
    }
   ],
   "source": [
    "def latitudes(size):\n",
    "    latitudes = []\n",
    "    x = 0\n",
    "    while x < (size):\n",
    "        randomLat=random.randint(-90,90)+ random.random()\n",
    "        latitudes.append(randomLat)\n",
    "        x+=1\n",
    "    return latitudes\n",
    "# Call the function with 1500\n",
    "%timeit latitudes(1500)"
   ]
  },
  {
   "cell_type": "code",
   "execution_count": null,
   "id": "063b2085",
   "metadata": {},
   "outputs": [],
   "source": []
  }
 ],
 "metadata": {
  "kernelspec": {
   "display_name": "PythonData",
   "language": "python",
   "name": "pythondata"
  },
  "language_info": {
   "codemirror_mode": {
    "name": "ipython",
    "version": 3
   },
   "file_extension": ".py",
   "mimetype": "text/x-python",
   "name": "python",
   "nbconvert_exporter": "python",
   "pygments_lexer": "ipython3",
   "version": "3.9.12"
  }
 },
 "nbformat": 4,
 "nbformat_minor": 5
}
